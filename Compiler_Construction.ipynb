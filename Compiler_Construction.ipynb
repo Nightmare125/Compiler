{
  "nbformat": 4,
  "nbformat_minor": 0,
  "metadata": {
    "colab": {
      "provenance": [],
      "authorship_tag": "ABX9TyMGGgnA3NkSuOjZlei2KbY4",
      "include_colab_link": true
    },
    "kernelspec": {
      "name": "python3",
      "display_name": "Python 3"
    },
    "language_info": {
      "name": "python"
    }
  },
  "cells": [
    {
      "cell_type": "markdown",
      "metadata": {
        "id": "view-in-github",
        "colab_type": "text"
      },
      "source": [
        "<a href=\"https://colab.research.google.com/github/Nightmare125/Compiler/blob/main/Compiler_Construction.ipynb\" target=\"_parent\"><img src=\"https://colab.research.google.com/assets/colab-badge.svg\" alt=\"Open In Colab\"/></a>"
      ]
    },
    {
      "cell_type": "markdown",
      "source": [
        "122589 Maina Richard Gichomo\n",
        "\n",
        "ICS 4A\n",
        "\n",
        "1. A simple script that takes an English sentence(s) (either static or dynamic) and outputs the individual words"
      ],
      "metadata": {
        "id": "JnjdiWQ3zl6B"
      }
    },
    {
      "cell_type": "code",
      "source": [
        "# Function to split a sentence into words and print them individually\n",
        "def split_sentence(sentence):\n",
        "    words = sentence.split()\n",
        "    for word in words:\n",
        "        print(word)\n",
        "\n",
        "# Input a sentence from the user\n",
        "input_sentence = input(\"Enter an English sentence: \")\n",
        "\n",
        "# Call the function to split and print the words\n",
        "split_sentence(input_sentence)"
      ],
      "metadata": {
        "id": "8eIGFBMl0LiU"
      },
      "execution_count": null,
      "outputs": []
    },
    {
      "cell_type": "markdown",
      "source": [
        "2\n",
        "Flex input file has been modified to count small letters instead of the initial capital letters."
      ],
      "metadata": {
        "id": "wImM_JBT4im6"
      }
    },
    {
      "cell_type": "code",
      "source": [
        "/*** Definition Section has one variable\n",
        "which can be accessed inside yylex()\n",
        "and main() ***/\n",
        "%{\n",
        "int count = 0;\n",
        "%}\n",
        "\n",
        "/*** Rule Section has three rules, first rule\n",
        "matches with small letters, second rule\n",
        "matches with any character except newline and\n",
        "third rule does not take input after the enter***/\n",
        "%%\n",
        "[a-z] { printf(\"%s is a small letter\\n\", yytext); count++; }\n",
        ".     { printf(\"%s not a small letter\\n\", yytext);}\n",
        "\\n    { return 0; }\n",
        "%%\n",
        "\n",
        "/*** Code Section prints the number of\n",
        "small letter present in the given input***/\n",
        "int yywrap() {}\n",
        "\n",
        "int main() {\n",
        "\n",
        "// Explanation:\n",
        "// yywrap() - wraps the above rule section\n",
        "/* yyin - takes the file pointer\n",
        "          which contains the input*/\n",
        "/* yylex() - this is the main flex function\n",
        "          which runs the Rule Section*/\n",
        "// yytext is the text in the buffer\n",
        "\n",
        "// Uncomment the lines below\n",
        "// to take input from file\n",
        "// FILE *fp;\n",
        "// char filename[50];\n",
        "// printf(\"Enter the filename: \\n\");\n",
        "// scanf(\"%s\",filename);\n",
        "// fp = fopen(filename,\"r\");\n",
        "// yyin = fp;\n",
        "\n",
        " yylex();\n",
        "    printf(\"\\nNumber of Small letters in the given input: %d\\n\", count);\n",
        "    return 0;\n",
        "}"
      ],
      "metadata": {
        "id": "n1phK9aR415s"
      },
      "execution_count": null,
      "outputs": []
    }
  ]
}