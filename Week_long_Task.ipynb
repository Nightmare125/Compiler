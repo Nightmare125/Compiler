{
  "nbformat": 4,
  "nbformat_minor": 0,
  "metadata": {
    "colab": {
      "provenance": [],
      "authorship_tag": "ABX9TyPfQWt7pV8EfqCEPFTpB4+W",
      "include_colab_link": true
    },
    "kernelspec": {
      "name": "python3",
      "display_name": "Python 3"
    },
    "language_info": {
      "name": "python"
    }
  },
  "cells": [
    {
      "cell_type": "markdown",
      "metadata": {
        "id": "view-in-github",
        "colab_type": "text"
      },
      "source": [
        "<a href=\"https://colab.research.google.com/github/Nightmare125/Compiler/blob/main/Week_long_Task.ipynb\" target=\"_parent\"><img src=\"https://colab.research.google.com/assets/colab-badge.svg\" alt=\"Open In Colab\"/></a>"
      ]
    },
    {
      "cell_type": "markdown",
      "source": [
        "122589 Maina Richard Gichomo\n",
        "\n",
        "ICS 4A\n",
        "\n",
        "Task 1\n",
        "\n",
        "In Python:"
      ],
      "metadata": {
        "id": "FKUlv5i2i7Rz"
      }
    },
    {
      "cell_type": "code",
      "source": [
        "def is_comment(line):\n",
        "    # Check if a line starts with common comment indicators\n",
        "    comment_indicators = ['//', '#', '/*', '*']\n",
        "    for indicator in comment_indicators:\n",
        "        if line.strip().startswith(indicator):\n",
        "            return True\n",
        "    return False\n",
        "\n",
        "def identify_lines(lines):\n",
        "    results = []\n",
        "    for line in lines:\n",
        "        if is_comment(line):\n",
        "            results.append(\"Comment: \" + line.strip())\n",
        "        else:\n",
        "            results.append(\"Code: \" + line.strip())\n",
        "    return results\n",
        "\n",
        "# Example usage:\n",
        "if __name__ == \"__main__\":\n",
        "    code_lines = [\n",
        "        \"int x = 10; // Initialize x to 10\",\n",
        "        \"print('Hello, world!')  # This is a comment\",\n",
        "        \"/* This is a multi-line\",\n",
        "        \"   comment */\",\n",
        "        \"for i in range(5):\",\n",
        "        \"    print(i) # Print the value of i\",\n",
        "    ]\n",
        "\n",
        "    results = identify_lines(code_lines)\n",
        "    for result in results:\n",
        "        print(result)\n"
      ],
      "metadata": {
        "id": "HU-xTcFBjsfS"
      },
      "execution_count": null,
      "outputs": []
    },
    {
      "cell_type": "markdown",
      "source": [
        "i.) Logic Used:\n",
        "\n",
        "*   The is_comment function determines whether a line begins with a common comment indicator like \"//,\" \"#,\" \"/,\" or \".\" A line is regarded as a comment if it begins with one of these markers. If not, it qualifies as code.\n",
        "\n",
        "*   The is_comment function is used by the identify_lines function to detect whether each line in a list of lines is a comment or a piece of code.    Each result in the list of results, which it returns, has a string indicating whether the line in question is code or a comment.\n",
        "\n",
        "ii.) Lexical and Syntax Analysis:\n",
        "\n",
        "\n",
        "*   This logic uses lexical analysis when we look for common comment indications at the beginning of each line. We search for specific character combinations that are frequently used in programming languages to represent comments.\n",
        "\n",
        "*   This fundamental comment identification mechanism does not explicitly involve syntax analysis because we are not parsing or analyzing the code's structure. To make a straightforward determination, we are merely searching for evidence of frequent comments at the beginning of lines.\n"
      ],
      "metadata": {
        "id": "2E6f5YcAjylp"
      }
    },
    {
      "cell_type": "markdown",
      "source": [
        "Task 2\n",
        "\n",
        "Python Program to Validate Identifiers:"
      ],
      "metadata": {
        "id": "aOlHRGV7mV2i"
      }
    },
    {
      "cell_type": "code",
      "source": [
        "import re\n",
        "\n",
        "def is_valid_identifier(identifier):\n",
        "    # Use a regular expression to validate the identifier\n",
        "    # An identifier should start with a letter or underscore, followed by letters, digits, or underscores.\n",
        "    # It should not be a keyword or a reserved word.\n",
        "    keywords = [\"if\", \"else\", \"while\", \"for\", \"return\", \"int\", \"float\", \"char\", \"bool\"]\n",
        "    if identifier in keywords:\n",
        "        return False\n",
        "    return re.match(r'^[a-zA-Z_][a-zA-Z0-9_]*$', identifier) is not None\n",
        "\n",
        "# Example usage:\n",
        "if __name__ == \"__main__\":\n",
        "    identifier = input(\"Enter an identifier: \")\n",
        "    if is_valid_identifier(identifier):\n",
        "        print(f\"'{identifier}' is a valid identifier.\")\n",
        "    else:\n",
        "        print(f\"'{identifier}' is not a valid identifier.\")\n"
      ],
      "metadata": {
        "id": "B7eby_2-mc7-"
      },
      "execution_count": null,
      "outputs": []
    },
    {
      "cell_type": "markdown",
      "source": [
        "To determine whether the provided identifier complies with the norms of most programming languages, this Python application employs a regular expression. It examines whether the identifier has letters, numbers, or underscores at the beginning, followed by a letter or underscore. The identification is also verified to ensure that it is neither a keyword or a reserved term.\n",
        "\n",
        "Flex Specification File to Validate Identifiers:"
      ],
      "metadata": {
        "id": "RIPaL9AhmsLW"
      }
    },
    {
      "cell_type": "code",
      "source": [
        "%{\n",
        "#include <stdio.h>\n",
        "%}\n",
        "\n",
        "%%\n",
        "[a-zA-Z_][a-zA-Z0-9_]* {\n",
        "    printf(\"%s is a valid identifier.\\n\", yytext);\n",
        "}\n",
        ". {\n",
        "    printf(\"%s is not a valid identifier.\\n\", yytext);\n",
        "}\n",
        "%%\n",
        "\n",
        "int main() {\n",
        "    yylex();\n",
        "    return 0;\n",
        "}\n"
      ],
      "metadata": {
        "id": "N-YVhJtJnQuu"
      },
      "execution_count": null,
      "outputs": []
    },
    {
      "cell_type": "markdown",
      "source": [
        "Task 3\n",
        "\n",
        "Python program that constructs the LL(1) parsing table for the given CFG:"
      ],
      "metadata": {
        "id": "JsZjZBGknlR2"
      }
    },
    {
      "cell_type": "code",
      "source": [
        "class LL1Parser:\n",
        "    def __init__(self, cfg):\n",
        "        self.cfg = cfg\n",
        "        self.non_terminals = set(cfg.keys())\n",
        "        self.terminals = set()\n",
        "        self.first_sets = {}\n",
        "        self.follow_sets = {}\n",
        "        self.parsing_table = {}\n",
        "\n",
        "    def compute_first_sets(self):\n",
        "        for non_terminal in self.non_terminals:\n",
        "            self.first_sets[non_terminal] = set()\n",
        "        while True:\n",
        "            updated = False\n",
        "            for non_terminal, productions in self.cfg.items():\n",
        "                for production in productions:\n",
        "                    for symbol in production:\n",
        "                        if symbol in self.terminals:\n",
        "                            if symbol not in self.first_sets[non_terminal]:\n",
        "                                self.first_sets[non_terminal].add(symbol)\n",
        "                                updated = True\n",
        "                            break\n",
        "                        elif symbol in self.non_terminals:\n",
        "                            if not self.first_sets[symbol]:\n",
        "                                break\n",
        "                            if not self.first_sets[non_terminal].issuperset(self.first_sets[symbol]):\n",
        "                                self.first_sets[non_terminal].update(self.first_sets[symbol])\n",
        "                                updated = True\n",
        "                        else:\n",
        "                            self.terminals.add(symbol)\n",
        "                            self.first_sets[non_terminal].add(symbol)\n",
        "                            updated = True\n",
        "            if not updated:\n",
        "                break\n",
        "\n",
        "    def compute_follow_sets(self, start_symbol):\n",
        "        for non_terminal in self.non_terminals:\n",
        "            self.follow_sets[non_terminal] = set()\n",
        "        self.follow_sets[start_symbol].add('$')  # $ represents end of input\n",
        "        while True:\n",
        "            updated = False\n",
        "            for non_terminal, productions in self.cfg.items():\n",
        "                for production in productions:\n",
        "                    for i, symbol in enumerate(production):\n",
        "                        if symbol in self.non_terminals:\n",
        "                            remaining_symbols = production[i + 1:]\n",
        "                            first_of_remaining = self.first(remaining_symbols)\n",
        "                            if '$' in first_of_remaining:\n",
        "                                first_of_remaining.remove('$')\n",
        "                                if not self.follow_sets[symbol].issuperset(self.follow_sets[non_terminal]):\n",
        "                                    self.follow_sets[symbol].update(self.follow_sets[non_terminal])\n",
        "                                    updated = True\n",
        "                            self.follow_sets[symbol].update(first_of_remaining)\n",
        "                            if all(x in first_of_remaining for x in remaining_symbols) and '$' in self.follow_sets[symbol]:\n",
        "                                self.follow_sets[symbol].remove('$')\n",
        "                                if not self.follow_sets[symbol].issuperset(self.follow_sets[non_terminal]):\n",
        "                                    self.follow_sets[symbol].update(self.follow_sets[non_terminal])\n",
        "                                    updated = True\n",
        "            if not updated:\n",
        "                break\n",
        "\n",
        "    def first(self, symbols):\n",
        "        result = set()\n",
        "        for symbol in symbols:\n",
        "            if symbol in self.terminals:\n",
        "                result.add(symbol)\n",
        "                break\n",
        "            elif symbol in self.non_terminals:\n",
        "                result.update(self.first_sets[symbol])\n",
        "                if '$' not in self.first_sets[symbol]:\n",
        "                    break\n",
        "            else:\n",
        "                result.add(symbol)\n",
        "                break\n",
        "        return result\n",
        "\n",
        "    def construct_parsing_table(self):\n",
        "        for non_terminal in self.non_terminals:\n",
        "            for production in self.cfg[non_terminal]:\n",
        "                first_of_production = self.first(production)\n",
        "                for terminal in first_of_production:\n",
        "                    if terminal != '$':\n",
        "                        self.parsing_table[(non_terminal, terminal)] = production\n",
        "                if '$' in first_of_production:\n",
        "                    for terminal in self.follow_sets[non_terminal]:\n",
        "                        self.parsing_table[(non_terminal, terminal)] = production\n",
        "\n",
        "    def print_parsing_table(self):\n",
        "        print(\"LL(1) Parsing Table:\")\n",
        "        print(\"{:<15} {:<15} {:<15}\".format(\"Non-Terminal\", \"Terminal\", \"Production\"))\n",
        "        for (non_terminal, terminal), production in self.parsing_table.items():\n",
        "            print(\"{:<15} {:<15} {:<15}\".format(non_terminal, terminal, ' '.join(production)))\n",
        "\n",
        "if __name__ == \"__main__\":\n",
        "    # Define your CFG here\n",
        "    cfg = {\n",
        "        'S': ['aAB'],\n",
        "        'A': ['b', '$'],\n",
        "        'B': ['c', '$']\n",
        "    }\n",
        "\n",
        "    start_symbol = 'S'\n",
        "\n",
        "    ll1_parser = LL1Parser(cfg)\n",
        "    ll1_parser.compute_first_sets()\n",
        "    ll1_parser.compute_follow_sets(start_symbol)\n",
        "    ll1_parser.construct_parsing_table()\n",
        "    ll1_parser.print_parsing_table()\n"
      ],
      "metadata": {
        "id": "HWFJenswohem"
      },
      "execution_count": null,
      "outputs": []
    },
    {
      "cell_type": "markdown",
      "source": [
        "In this program:\n",
        "\n",
        "*   The LL1Parser class computes the FIRST and FOLLOW sets for each non-terminal and constructs the LL(1) parsing table.\n",
        "\n",
        "*   The print_parsing_table method prints the LL(1) parsing table in a readable format.\n",
        "\n"
      ],
      "metadata": {
        "id": "ud6mK57jonMl"
      }
    }
  ]
}