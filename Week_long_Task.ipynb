{
  "nbformat": 4,
  "nbformat_minor": 0,
  "metadata": {
    "colab": {
      "provenance": [],
      "authorship_tag": "ABX9TyOet/Uq/Kaib/wBzELlDhoH",
      "include_colab_link": true
    },
    "kernelspec": {
      "name": "python3",
      "display_name": "Python 3"
    },
    "language_info": {
      "name": "python"
    }
  },
  "cells": [
    {
      "cell_type": "markdown",
      "metadata": {
        "id": "view-in-github",
        "colab_type": "text"
      },
      "source": [
        "<a href=\"https://colab.research.google.com/github/Nightmare125/Compiler/blob/main/Week_long_Task.ipynb\" target=\"_parent\"><img src=\"https://colab.research.google.com/assets/colab-badge.svg\" alt=\"Open In Colab\"/></a>"
      ]
    },
    {
      "cell_type": "markdown",
      "source": [
        "122589 Maina Richard Gichomo\n",
        "\n",
        "ICS 4A\n",
        "\n",
        "Task 1\n",
        "\n",
        "In Python:"
      ],
      "metadata": {
        "id": "FKUlv5i2i7Rz"
      }
    },
    {
      "cell_type": "code",
      "source": [
        "def is_comment(line):\n",
        "    # Check if a line starts with common comment indicators\n",
        "    comment_indicators = ['//', '#', '/*', '*']\n",
        "    for indicator in comment_indicators:\n",
        "        if line.strip().startswith(indicator):\n",
        "            return True\n",
        "    return False\n",
        "\n",
        "def identify_lines(lines):\n",
        "    results = []\n",
        "    for line in lines:\n",
        "        if is_comment(line):\n",
        "            results.append(\"Comment: \" + line.strip())\n",
        "        else:\n",
        "            results.append(\"Code: \" + line.strip())\n",
        "    return results\n",
        "\n",
        "# Example usage:\n",
        "if __name__ == \"__main__\":\n",
        "    code_lines = [\n",
        "        \"int x = 10; // Initialize x to 10\",\n",
        "        \"print('Hello, world!')  # This is a comment\",\n",
        "        \"/* This is a multi-line\",\n",
        "        \"   comment */\",\n",
        "        \"for i in range(5):\",\n",
        "        \"    print(i) # Print the value of i\",\n",
        "    ]\n",
        "\n",
        "    results = identify_lines(code_lines)\n",
        "    for result in results:\n",
        "        print(result)\n"
      ],
      "metadata": {
        "id": "HU-xTcFBjsfS"
      },
      "execution_count": null,
      "outputs": []
    },
    {
      "cell_type": "markdown",
      "source": [
        "i.) Logic Used:\n",
        "\n",
        "*   The is_comment function determines whether a line begins with a common comment indicator like \"//,\" \"#,\" \"/,\" or \".\" A line is regarded as a comment if it begins with one of these markers. If not, it qualifies as code.\n",
        "\n",
        "*   The is_comment function is used by the identify_lines function to detect whether each line in a list of lines is a comment or a piece of code.    Each result in the list of results, which it returns, has a string indicating whether the line in question is code or a comment.\n",
        "\n",
        "ii.) Lexical and Syntax Analysis:\n",
        "\n",
        "\n",
        "*   This logic uses lexical analysis when we look for common comment indications at the beginning of each line. We search for specific character combinations that are frequently used in programming languages to represent comments.\n",
        "\n",
        "*   This fundamental comment identification mechanism does not explicitly involve syntax analysis because we are not parsing or analyzing the code's structure. To make a straightforward determination, we are merely searching for evidence of frequent comments at the beginning of lines.\n"
      ],
      "metadata": {
        "id": "2E6f5YcAjylp"
      }
    },
    {
      "cell_type": "markdown",
      "source": [
        "Task 2\n",
        "\n",
        "Python Program to Validate Identifiers:"
      ],
      "metadata": {
        "id": "aOlHRGV7mV2i"
      }
    },
    {
      "cell_type": "code",
      "source": [
        "import re\n",
        "\n",
        "def is_valid_identifier(identifier):\n",
        "    # Use a regular expression to validate the identifier\n",
        "    # An identifier should start with a letter or underscore, followed by letters, digits, or underscores.\n",
        "    # It should not be a keyword or a reserved word.\n",
        "    keywords = [\"if\", \"else\", \"while\", \"for\", \"return\", \"int\", \"float\", \"char\", \"bool\"]\n",
        "    if identifier in keywords:\n",
        "        return False\n",
        "    return re.match(r'^[a-zA-Z_][a-zA-Z0-9_]*$', identifier) is not None\n",
        "\n",
        "# Example usage:\n",
        "if __name__ == \"__main__\":\n",
        "    identifier = input(\"Enter an identifier: \")\n",
        "    if is_valid_identifier(identifier):\n",
        "        print(f\"'{identifier}' is a valid identifier.\")\n",
        "    else:\n",
        "        print(f\"'{identifier}' is not a valid identifier.\")\n"
      ],
      "metadata": {
        "id": "B7eby_2-mc7-"
      },
      "execution_count": null,
      "outputs": []
    },
    {
      "cell_type": "markdown",
      "source": [
        "To determine whether the provided identifier complies with the norms of most programming languages, this Python application employs a regular expression. It examines whether the identifier has letters, numbers, or underscores at the beginning, followed by a letter or underscore. The identification is also verified to ensure that it is neither a keyword or a reserved term.\n",
        "\n",
        "Flex Specification File to Validate Identifiers:"
      ],
      "metadata": {
        "id": "RIPaL9AhmsLW"
      }
    },
    {
      "cell_type": "code",
      "source": [
        "%{\n",
        "#include <stdio.h>\n",
        "%}\n",
        "\n",
        "%%\n",
        "[a-zA-Z_][a-zA-Z0-9_]* {\n",
        "    printf(\"%s is a valid identifier.\\n\", yytext);\n",
        "}\n",
        ". {\n",
        "    printf(\"%s is not a valid identifier.\\n\", yytext);\n",
        "}\n",
        "%%\n",
        "\n",
        "int main() {\n",
        "    yylex();\n",
        "    return 0;\n",
        "}\n"
      ],
      "metadata": {
        "id": "N-YVhJtJnQuu"
      },
      "execution_count": null,
      "outputs": []
    }
  ]
}